{
 "cells": [
  {
   "cell_type": "code",
   "execution_count": null,
   "id": "211d4a52-0a80-4743-9e76-b961fd3fe88f",
   "metadata": {},
   "outputs": [],
   "source": []
  },
  {
   "cell_type": "code",
   "execution_count": 1,
   "id": "82dc57d8-adfb-4e30-8ee6-298fd2a7ef30",
   "metadata": {},
   "outputs": [
    {
     "name": "stdout",
     "output_type": "stream",
     "text": [
      "Versions\n",
      "NumPy:         1.25.2\n",
      "pandas:        1.4.1\n",
      "Delicatessen:  3.0\n"
     ]
    }
   ],
   "source": [
    "import numpy as np\n",
    "import pandas as pd\n",
    "\n",
    "import delicatessen\n",
    "from delicatessen import GMMEstimator\n",
    "from delicatessen.estimating_equations import ee_regression, ee_rogan_gladen\n",
    "from delicatessen.utilities import inverse_logit\n",
    "\n",
    "print(\"Versions\")\n",
    "print(\"NumPy:        \", np.__version__)\n",
    "print(\"pandas:       \", pd.__version__)\n",
    "print(\"Delicatessen: \", delicatessen.__version__)"
   ]
  },
  {
   "cell_type": "code",
   "execution_count": 2,
   "id": "1f3ea839-174f-4770-85ac-461bbbb7f0fb",
   "metadata": {},
   "outputs": [],
   "source": [
    "n = 500\n",
    "d = pd.DataFrame()\n",
    "d['Z1'] = np.random.binomial(n=1, p=0.5, size=n)\n",
    "d['Z2'] = np.random.binomial(n=1, p=0.5, size=n)\n",
    "d['U'] = np.random.normal(size=n)\n",
    "d['A'] = np.random.binomial(n=1, p=inverse_logit(d['U'] + d['Z1'] - d['Z2']), size=n)\n",
    "d['Y'] = 2*d['A'] - d['U'] + np.random.normal(size=n)"
   ]
  },
  {
   "cell_type": "code",
   "execution_count": 3,
   "id": "c1e52440-dabd-4009-a9a8-a116a968ef23",
   "metadata": {},
   "outputs": [
    {
     "data": {
      "text/html": [
       "<div>\n",
       "<style scoped>\n",
       "    .dataframe tbody tr th:only-of-type {\n",
       "        vertical-align: middle;\n",
       "    }\n",
       "\n",
       "    .dataframe tbody tr th {\n",
       "        vertical-align: top;\n",
       "    }\n",
       "\n",
       "    .dataframe thead th {\n",
       "        text-align: right;\n",
       "    }\n",
       "</style>\n",
       "<table border=\"1\" class=\"dataframe\">\n",
       "  <thead>\n",
       "    <tr style=\"text-align: right;\">\n",
       "      <th></th>\n",
       "      <th>Z1</th>\n",
       "      <th>Z2</th>\n",
       "      <th>U</th>\n",
       "      <th>A</th>\n",
       "      <th>Y</th>\n",
       "    </tr>\n",
       "  </thead>\n",
       "  <tbody>\n",
       "    <tr>\n",
       "      <th>count</th>\n",
       "      <td>500.000000</td>\n",
       "      <td>500.000000</td>\n",
       "      <td>500.000000</td>\n",
       "      <td>500.000000</td>\n",
       "      <td>500.000000</td>\n",
       "    </tr>\n",
       "    <tr>\n",
       "      <th>mean</th>\n",
       "      <td>0.500000</td>\n",
       "      <td>0.540000</td>\n",
       "      <td>-0.018708</td>\n",
       "      <td>0.510000</td>\n",
       "      <td>1.125005</td>\n",
       "    </tr>\n",
       "    <tr>\n",
       "      <th>std</th>\n",
       "      <td>0.500501</td>\n",
       "      <td>0.498897</td>\n",
       "      <td>1.051151</td>\n",
       "      <td>0.500401</td>\n",
       "      <td>1.555370</td>\n",
       "    </tr>\n",
       "    <tr>\n",
       "      <th>min</th>\n",
       "      <td>0.000000</td>\n",
       "      <td>0.000000</td>\n",
       "      <td>-2.956990</td>\n",
       "      <td>0.000000</td>\n",
       "      <td>-3.477546</td>\n",
       "    </tr>\n",
       "    <tr>\n",
       "      <th>25%</th>\n",
       "      <td>0.000000</td>\n",
       "      <td>0.000000</td>\n",
       "      <td>-0.708308</td>\n",
       "      <td>0.000000</td>\n",
       "      <td>0.107649</td>\n",
       "    </tr>\n",
       "    <tr>\n",
       "      <th>50%</th>\n",
       "      <td>0.500000</td>\n",
       "      <td>1.000000</td>\n",
       "      <td>-0.019057</td>\n",
       "      <td>1.000000</td>\n",
       "      <td>1.140912</td>\n",
       "    </tr>\n",
       "    <tr>\n",
       "      <th>75%</th>\n",
       "      <td>1.000000</td>\n",
       "      <td>1.000000</td>\n",
       "      <td>0.726228</td>\n",
       "      <td>1.000000</td>\n",
       "      <td>2.205340</td>\n",
       "    </tr>\n",
       "    <tr>\n",
       "      <th>max</th>\n",
       "      <td>1.000000</td>\n",
       "      <td>1.000000</td>\n",
       "      <td>2.788880</td>\n",
       "      <td>1.000000</td>\n",
       "      <td>5.323891</td>\n",
       "    </tr>\n",
       "  </tbody>\n",
       "</table>\n",
       "</div>"
      ],
      "text/plain": [
       "               Z1          Z2           U           A           Y\n",
       "count  500.000000  500.000000  500.000000  500.000000  500.000000\n",
       "mean     0.500000    0.540000   -0.018708    0.510000    1.125005\n",
       "std      0.500501    0.498897    1.051151    0.500401    1.555370\n",
       "min      0.000000    0.000000   -2.956990    0.000000   -3.477546\n",
       "25%      0.000000    0.000000   -0.708308    0.000000    0.107649\n",
       "50%      0.500000    1.000000   -0.019057    1.000000    1.140912\n",
       "75%      1.000000    1.000000    0.726228    1.000000    2.205340\n",
       "max      1.000000    1.000000    2.788880    1.000000    5.323891"
      ]
     },
     "execution_count": 3,
     "metadata": {},
     "output_type": "execute_result"
    }
   ],
   "source": [
    "d.describe()"
   ]
  },
  {
   "cell_type": "code",
   "execution_count": 4,
   "id": "800fa4c7-99ba-49b9-b66f-d6785db10cca",
   "metadata": {},
   "outputs": [
    {
     "name": "stdout",
     "output_type": "stream",
     "text": [
      "Theta solution [1.28566756]\n",
      "Theta solution [1.28566756]\n"
     ]
    }
   ],
   "source": [
    "z1 = np.asarray(d['Z1'])\n",
    "a = np.asarray(d['A'])\n",
    "y = np.asarray(d['Y'])\n",
    "\n",
    "\n",
    "def psi(theta):\n",
    "    return (y*z1 - y*(1-z1)) - theta*(a*z1 - a*(1-z1))\n",
    "\n",
    "estr = GMMEstimator(psi, init=[0.,])\n",
    "estr.estimate()"
   ]
  },
  {
   "cell_type": "code",
   "execution_count": 5,
   "id": "4e02cac3-8a87-4a3f-8252-f4ff8dd654ec",
   "metadata": {},
   "outputs": [
    {
     "ename": "ValueError",
     "evalue": "The number of initial values should be greater than or equal to the number of rows returned by `stacked_equations` but there are 1 initial values and the `stacked_equations` function returns 2 row(s).",
     "output_type": "error",
     "traceback": [
      "\u001b[1;31m---------------------------------------------------------------------------\u001b[0m",
      "\u001b[1;31mValueError\u001b[0m                                Traceback (most recent call last)",
      "Input \u001b[1;32mIn [5]\u001b[0m, in \u001b[0;36m<module>\u001b[1;34m\u001b[0m\n\u001b[0;32m     10\u001b[0m     \u001b[38;5;28;01mreturn\u001b[39;00m np\u001b[38;5;241m.\u001b[39mvstack([ee_z1, ee_z2])\n\u001b[0;32m     12\u001b[0m estr \u001b[38;5;241m=\u001b[39m GMMEstimator(psi, init\u001b[38;5;241m=\u001b[39m[\u001b[38;5;241m0.\u001b[39m,])\n\u001b[1;32m---> 13\u001b[0m \u001b[43mestr\u001b[49m\u001b[38;5;241;43m.\u001b[39;49m\u001b[43mestimate\u001b[49m\u001b[43m(\u001b[49m\u001b[43m)\u001b[49m\n",
      "File \u001b[1;32mc:\\users\\zivic\\documents\\open-source\\delicatessen\\delicatessen\\estimation.py:824\u001b[0m, in \u001b[0;36mGMMEstimator.estimate\u001b[1;34m(self, solver, maxiter, tolerance, deriv_method, dx, allow_pinv)\u001b[0m\n\u001b[0;32m    822\u001b[0m         over_identified \u001b[38;5;241m=\u001b[39m \u001b[38;5;28;01mTrue\u001b[39;00m\n\u001b[0;32m    823\u001b[0m     \u001b[38;5;28;01melse\u001b[39;00m:\n\u001b[1;32m--> 824\u001b[0m         \u001b[38;5;28;01mraise\u001b[39;00m \u001b[38;5;167;01mValueError\u001b[39;00m(\n\u001b[0;32m    825\u001b[0m             \u001b[38;5;124m\"\u001b[39m\u001b[38;5;124mThe number of initial values should be greater than or equal to the number of rows \u001b[39m\u001b[38;5;124m\"\u001b[39m\n\u001b[0;32m    826\u001b[0m             \u001b[38;5;124m\"\u001b[39m\u001b[38;5;124mreturned by `stacked_equations` but there are \u001b[39m\u001b[38;5;124m\"\u001b[39m \u001b[38;5;241m+\u001b[39m \u001b[38;5;28mstr\u001b[39m(np\u001b[38;5;241m.\u001b[39masarray(\u001b[38;5;28mself\u001b[39m\u001b[38;5;241m.\u001b[39minit)\u001b[38;5;241m.\u001b[39mshape[\u001b[38;5;241m0\u001b[39m])\n\u001b[0;32m    827\u001b[0m             \u001b[38;5;241m+\u001b[39m \u001b[38;5;124m\"\u001b[39m\u001b[38;5;124m initial values and the `stacked_equations` function returns \u001b[39m\u001b[38;5;124m\"\u001b[39m\n\u001b[0;32m    828\u001b[0m             \u001b[38;5;241m+\u001b[39m \u001b[38;5;28mstr\u001b[39m(vals_at_init\u001b[38;5;241m.\u001b[39mshape[\u001b[38;5;241m1\u001b[39m]) \u001b[38;5;241m+\u001b[39m \u001b[38;5;124m\"\u001b[39m\u001b[38;5;124m row(s).\u001b[39m\u001b[38;5;124m\"\u001b[39m)\n\u001b[0;32m    829\u001b[0m \u001b[38;5;28;01melif\u001b[39;00m vals_at_init\u001b[38;5;241m.\u001b[39mndim \u001b[38;5;241m>\u001b[39m \u001b[38;5;241m2\u001b[39m:\n\u001b[0;32m    830\u001b[0m     \u001b[38;5;28;01mraise\u001b[39;00m \u001b[38;5;167;01mValueError\u001b[39;00m(\u001b[38;5;124m\"\u001b[39m\u001b[38;5;124mA 2-dimensional array is expected, but the `stacked_equations` returns a \u001b[39m\u001b[38;5;124m\"\u001b[39m\n\u001b[0;32m    831\u001b[0m                      \u001b[38;5;241m+\u001b[39m \u001b[38;5;28mstr\u001b[39m(vals_at_init\u001b[38;5;241m.\u001b[39mndim) \u001b[38;5;241m+\u001b[39m \u001b[38;5;124m\"\u001b[39m\u001b[38;5;124m-dimensional array.\u001b[39m\u001b[38;5;124m\"\u001b[39m)\n",
      "\u001b[1;31mValueError\u001b[0m: The number of initial values should be greater than or equal to the number of rows returned by `stacked_equations` but there are 1 initial values and the `stacked_equations` function returns 2 row(s)."
     ]
    }
   ],
   "source": [
    "z1 = np.asarray(d['Z1'])\n",
    "z2 = np.asarray(d['Z2'])\n",
    "a = np.asarray(d['A'])\n",
    "y = np.asarray(d['Y'])\n",
    "\n",
    "\n",
    "def psi(theta):\n",
    "    ee_z1 = (y*z1 - y*(1-z1)) - theta*(a*z1 - a*(1-z1))\n",
    "    ee_z2 = (y*z2 - y*(1-z2)) - theta*(a*z2 - a*(1-z2))\n",
    "    return np.vstack([ee_z1, ee_z2])\n",
    "\n",
    "estr = GMMEstimator(psi, init=[0.,])\n",
    "estr.estimate()"
   ]
  }
 ],
 "metadata": {
  "kernelspec": {
   "display_name": "Python 3 (ipykernel)",
   "language": "python",
   "name": "python3"
  },
  "language_info": {
   "codemirror_mode": {
    "name": "ipython",
    "version": 3
   },
   "file_extension": ".py",
   "mimetype": "text/x-python",
   "name": "python",
   "nbconvert_exporter": "python",
   "pygments_lexer": "ipython3",
   "version": "3.9.4"
  }
 },
 "nbformat": 4,
 "nbformat_minor": 5
}
