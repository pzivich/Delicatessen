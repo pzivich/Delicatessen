{
 "cells": [
  {
   "cell_type": "markdown",
   "id": "b0b168a1-b3e4-48a2-97ac-e24f9789f0f2",
   "metadata": {},
   "source": [
    "# Collett (2015): Survival Analysis\n",
    "\n",
    "The following presents some survival analysis methods framed as M-estimators. The described example and methods are detailed further in the book by Collett. In survival analysis, we are commonly interested in estimating the survival or risk at a particular time. However, some observations are censored (most commonly right censored, which is exclusively considered hereafter). Therefore, our data is composed of the observation time ($T^*$) and an event indicator ($\\Delta$). The observation time is usually framed as the minimum of the time-to-event ($T$) and time-to-censor ($C$). Herem we assume that each person has both times, but we only see $T^* = \\min(T,C)$. The event indicator tells us which of these two options occurred ($\\Delta = 1$ if it was the event). Therefore, survival analysis methods consider how to efficiently learn functions of the time-to-event variable with this partial missingness. See elsewhere for a more detailed review of survival analysis and its methods.\n",
    "\n",
    "## Setup"
   ]
  },
  {
   "cell_type": "code",
   "execution_count": 1,
   "id": "ef73e682-8bd2-4bc1-a719-e64f9754a9ba",
   "metadata": {},
   "outputs": [
    {
     "name": "stdout",
     "output_type": "stream",
     "text": [
      "NumPy version:        1.25.2\n",
      "SciPy version:        1.11.2\n",
      "Pandas version:       1.4.1\n",
      "Delicatessen version: 3.1\n"
     ]
    }
   ],
   "source": [
    "import numpy as np\n",
    "import scipy as sp\n",
    "import pandas as pd\n",
    "import matplotlib.pyplot as plt\n",
    "\n",
    "import delicatessen as deli\n",
    "from delicatessen import MEstimator\n",
    "from delicatessen.estimating_equations import ee_survival_model, ee_aft\n",
    "from delicatessen.utilities import survival_predictions, aft_predictions_function\n",
    "\n",
    "print(\"NumPy version:       \", np.__version__)\n",
    "print(\"SciPy version:       \", sp.__version__)\n",
    "print(\"Pandas version:      \", pd.__version__)\n",
    "print(\"Delicatessen version:\", deli.__version__)"
   ]
  },
  {
   "cell_type": "markdown",
   "id": "e4b59170-62f5-4978-8f9f-987016c866c7",
   "metadata": {},
   "source": [
    "Here, data on the survival times of 45 women with breast cancer in Middlesex Hospital July 1987 (Table 1.2) is used. Information was collected on whether tumors were positively or negatively stained with HPA. This will be the only covariate included in the analysis."
   ]
  },
  {
   "cell_type": "code",
   "execution_count": 2,
   "id": "43725717-072f-47b4-b1f9-8c5057a08c3f",
   "metadata": {},
   "outputs": [],
   "source": [
    "times_to_predict = np.linspace(0.5, 230, 100)  # For drawing survival functions"
   ]
  },
  {
   "cell_type": "code",
   "execution_count": 3,
   "id": "1191d4c4-f1b3-4ee8-ae1b-637fdf2f7daf",
   "metadata": {},
   "outputs": [
    {
     "name": "stdout",
     "output_type": "stream",
     "text": [
      "<class 'pandas.core.frame.DataFrame'>\n",
      "RangeIndex: 45 entries, 0 to 44\n",
      "Data columns (total 4 columns):\n",
      " #   Column  Non-Null Count  Dtype\n",
      "---  ------  --------------  -----\n",
      " 0   stain   45 non-null     int64\n",
      " 1   time    45 non-null     int64\n",
      " 2   status  45 non-null     int64\n",
      " 3   C       45 non-null     int64\n",
      "dtypes: int64(4)\n",
      "memory usage: 1.5 KB\n"
     ]
    }
   ],
   "source": [
    "d = pd.read_csv(\"data/breast_cancer.dat\", sep='\\s+')\n",
    "d['stain'] = d['stain'] - 1\n",
    "d['C'] = 1\n",
    "d.info()"
   ]
  },
  {
   "cell_type": "markdown",
   "id": "51b33557-cc2e-4fac-bdf9-43665d7d0913",
   "metadata": {},
   "source": [
    "Here, `time` is the observation time, `status` is the event indicator, and `stain` is whether the tumor was HPA stained positive or negative. This data set can also be loaded through `delicatessen.data.load_breast_cancer()`.\n",
    "\n",
    "## Chapter 5: Parametric Proportional Hazards Models \n",
    "\n",
    "To begin, we will simply model the survival times using parametric models without covariates. \n",
    "\n",
    "### Exponential\n",
    "\n",
    "The exponential model is a one parameter model that assumes the hazard is constant. It is the simplest of the survival models. This model is parameterized as \n",
    "$$ h(t) = \\lambda t $$\n",
    "The following code can be used to fit the exponential model"
   ]
  },
  {
   "cell_type": "code",
   "execution_count": 4,
   "id": "51d43d97-eedc-486f-946a-84729864d558",
   "metadata": {},
   "outputs": [],
   "source": [
    "def psi(theta):\n",
    "    return ee_survival_model(theta=theta, t=d['time'], delta=d['status'], \n",
    "                             distribution='exponential')"
   ]
  },
  {
   "cell_type": "code",
   "execution_count": 5,
   "id": "b5093bf2-6db3-49ad-ae9b-197538585467",
   "metadata": {},
   "outputs": [],
   "source": [
    "estr = MEstimator(psi, init=[0.01, ])\n",
    "estr.estimate()"
   ]
  },
  {
   "cell_type": "code",
   "execution_count": 6,
   "id": "9392bdd6-f596-46aa-b82d-5983cd4ef87b",
   "metadata": {},
   "outputs": [
    {
     "data": {
      "text/html": [
       "<div>\n",
       "<style scoped>\n",
       "    .dataframe tbody tr th:only-of-type {\n",
       "        vertical-align: middle;\n",
       "    }\n",
       "\n",
       "    .dataframe tbody tr th {\n",
       "        vertical-align: top;\n",
       "    }\n",
       "\n",
       "    .dataframe thead th {\n",
       "        text-align: right;\n",
       "    }\n",
       "</style>\n",
       "<table border=\"1\" class=\"dataframe\">\n",
       "  <thead>\n",
       "    <tr style=\"text-align: right;\">\n",
       "      <th></th>\n",
       "      <th>Est</th>\n",
       "      <th>SE</th>\n",
       "      <th>LCL</th>\n",
       "      <th>UCL</th>\n",
       "    </tr>\n",
       "    <tr>\n",
       "      <th>Params</th>\n",
       "      <th></th>\n",
       "      <th></th>\n",
       "      <th></th>\n",
       "      <th></th>\n",
       "    </tr>\n",
       "  </thead>\n",
       "  <tbody>\n",
       "    <tr>\n",
       "      <th>Lambda</th>\n",
       "      <td>0.006</td>\n",
       "      <td>0.001</td>\n",
       "      <td>0.003</td>\n",
       "      <td>0.009</td>\n",
       "    </tr>\n",
       "  </tbody>\n",
       "</table>\n",
       "</div>"
      ],
      "text/plain": [
       "          Est     SE    LCL    UCL\n",
       "Params                            \n",
       "Lambda  0.006  0.001  0.003  0.009"
      ]
     },
     "execution_count": 6,
     "metadata": {},
     "output_type": "execute_result"
    }
   ],
   "source": [
    "# Setting up a Table for the results\n",
    "results = pd.DataFrame()\n",
    "results['Params'] = [\"Lambda\", ]\n",
    "results = results.set_index('Params')\n",
    "results['Est'] = estr.theta\n",
    "results['SE'] = np.diag(estr.variance) ** 0.5\n",
    "ci = estr.confidence_intervals()\n",
    "results['LCL'] = ci[:, 0]\n",
    "results['UCL'] = ci[:, 1]\n",
    "\n",
    "results.round(3)"
   ]
  },
  {
   "cell_type": "markdown",
   "id": "ee45d237-ca1f-47ef-b3b5-f80036ead136",
   "metadata": {},
   "source": [
    "So the estimated hazard at each time is simply $0.006$.\n",
    "\n",
    "Another more informative way to view the results from this model is to plot the estimated survival function. The following code generates the confidence intervals for the survival function at designated times using the Delta Method."
   ]
  },
  {
   "cell_type": "code",
   "execution_count": 7,
   "id": "33e6eedf-5fa3-4657-890f-159fff947ec4",
   "metadata": {},
   "outputs": [],
   "source": [
    "surv = survival_predictions(times=times_to_predict, \n",
    "                            theta=estr.theta, covariance=estr.variance, \n",
    "                            distribution='exponential')"
   ]
  },
  {
   "cell_type": "code",
   "execution_count": 8,
   "id": "98d0d9cc-7dbd-4521-9507-59c9ea9ca0ac",
   "metadata": {},
   "outputs": [
    {
     "data": {
      "image/png": "[encoded data removed]",
      "text/plain": [
       "<Figure size 432x288 with 1 Axes>"
      ]
     },
     "metadata": {
      "needs_background": "light"
     },
     "output_type": "display_data"
    }
   ],
   "source": [
    "plt.plot(times_to_predict, surv[:, 0], '-', color='k')\n",
    "plt.fill_between(times_to_predict, surv[:, 2], surv[:, 3], color='k', alpha=0.3)\n",
    "plt.ylim([0, 1])\n",
    "plt.ylabel(\"Survival\")\n",
    "plt.xlim([0, 235])\n",
    "plt.xlabel(\"Time (days)\")\n",
    "plt.title(\"Exponential\")\n",
    "plt.tight_layout()"
   ]
  },
  {
   "cell_type": "markdown",
   "id": "3c3e0e81-d553-4169-8f1d-4af821c06774",
   "metadata": {},
   "source": [
    "### Weibull \n",
    "\n",
    "The Weibull model is a two parameter model that is an extension of the exponential model. Here, the Weibull model is parameterized as \n",
    "$$ h(t) = \\lambda \\gamma t^{\\gamma - 1} $$\n",
    "where $\\gamma$ is the shape parameter. This parameter allows for the hazard to increase or decrease monotonically. The following code is used to fit a Weibull model."
   ]
  },
  {
   "cell_type": "code",
   "execution_count": 9,
   "id": "704306e8-483e-49ec-b295-a069f0c28990",
   "metadata": {},
   "outputs": [],
   "source": [
    "def psi(theta):\n",
    "    return ee_survival_model(theta=theta, t=d['time'], delta=d['status'], \n",
    "                             distribution='weibull')"
   ]
  },
  {
   "cell_type": "code",
   "execution_count": 10,
   "id": "e45c50ab-5b8b-424c-a433-7dd3ad47de59",
   "metadata": {},
   "outputs": [],
   "source": [
    "estr = MEstimator(psi, init=[0.01, 1.])\n",
    "estr.estimate()"
   ]
  },
  {
   "cell_type": "code",
   "execution_count": 11,
   "id": "f43487e9-c196-4f58-8cdb-ffd786d4784c",
   "metadata": {},
   "outputs": [
    {
     "data": {
      "text/html": [
       "<div>\n",
       "<style scoped>\n",
       "    .dataframe tbody tr th:only-of-type {\n",
       "        vertical-align: middle;\n",
       "    }\n",
       "\n",
       "    .dataframe tbody tr th {\n",
       "        vertical-align: top;\n",
       "    }\n",
       "\n",
       "    .dataframe thead th {\n",
       "        text-align: right;\n",
       "    }\n",
       "</style>\n",
       "<table border=\"1\" class=\"dataframe\">\n",
       "  <thead>\n",
       "    <tr style=\"text-align: right;\">\n",
       "      <th></th>\n",
       "      <th>Est</th>\n",
       "      <th>SE</th>\n",
       "      <th>LCL</th>\n",
       "      <th>UCL</th>\n",
       "    </tr>\n",
       "    <tr>\n",
       "      <th>Params</th>\n",
       "      <th></th>\n",
       "      <th></th>\n",
       "      <th></th>\n",
       "      <th></th>\n",
       "    </tr>\n",
       "  </thead>\n",
       "  <tbody>\n",
       "    <tr>\n",
       "      <th>Lambda</th>\n",
       "      <td>0.010</td>\n",
       "      <td>0.005</td>\n",
       "      <td>-0.000</td>\n",
       "      <td>0.019</td>\n",
       "    </tr>\n",
       "    <tr>\n",
       "      <th>Gamma</th>\n",
       "      <td>0.904</td>\n",
       "      <td>0.111</td>\n",
       "      <td>0.686</td>\n",
       "      <td>1.122</td>\n",
       "    </tr>\n",
       "  </tbody>\n",
       "</table>\n",
       "</div>"
      ],
      "text/plain": [
       "          Est     SE    LCL    UCL\n",
       "Params                            \n",
       "Lambda  0.010  0.005 -0.000  0.019\n",
       "Gamma   0.904  0.111  0.686  1.122"
      ]
     },
     "execution_count": 11,
     "metadata": {},
     "output_type": "execute_result"
    }
   ],
   "source": [
    "# Setting up a Table for the results\n",
    "results = pd.DataFrame()\n",
    "results['Params'] = [\"Lambda\", \"Gamma\"]\n",
    "results = results.set_index('Params')\n",
    "results['Est'] = estr.theta\n",
    "results['SE'] = np.diag(estr.variance) ** 0.5\n",
    "ci = estr.confidence_intervals()\n",
    "results['LCL'] = ci[:, 0]\n",
    "results['UCL'] = ci[:, 1]\n",
    "\n",
    "results.round(3)"
   ]
  },
  {
   "cell_type": "markdown",
   "id": "7e8c009e-8acd-4ee4-ad1b-d899b563d633",
   "metadata": {},
   "source": [
    "Here, $\\gamma$ is near 1, which suggests that the Weibull isn't much better of a fit to the data. \n",
    "\n",
    "As before, we can plot the survival function to get a better idea what these parameters mean"
   ]
  },
  {
   "cell_type": "code",
   "execution_count": 12,
   "id": "78893125-4708-4125-99bf-4f29db673137",
   "metadata": {},
   "outputs": [],
   "source": [
    "surv = survival_predictions(times=times_to_predict, \n",
    "                            theta=estr.theta, covariance=estr.variance, \n",
    "                            distribution='weibull')"
   ]
  },
  {
   "cell_type": "code",
   "execution_count": 13,
   "id": "d9847e23-8853-4804-8228-a730e94d2c57",
   "metadata": {},
   "outputs": [
    {
     "data": {
      "image/png": "[encoded data removed]",
      "text/plain": [
       "<Figure size 432x288 with 1 Axes>"
      ]
     },
     "metadata": {
      "needs_background": "light"
     },
     "output_type": "display_data"
    }
   ],
   "source": [
    "plt.plot(times_to_predict, surv[:, 0], '-', color='k')\n",
    "plt.fill_between(times_to_predict, surv[:, 2], surv[:, 3], color='k', alpha=0.3)\n",
    "plt.ylim([0, 1])\n",
    "plt.ylabel(\"Survival\")\n",
    "plt.xlim([0, 235])\n",
    "plt.xlabel(\"Time (days)\")\n",
    "plt.title(\"Weibull\")\n",
    "plt.tight_layout()"
   ]
  },
  {
   "cell_type": "markdown",
   "id": "30637114-0de0-4092-9259-259faca5275d",
   "metadata": {},
   "source": [
    "A disadvantage of the previous models is that they do not incorporate information on baseline covariates.\n",
    "\n",
    "## Chapter 6: Accelerated Failure Time and Other Parametric Models\n",
    "\n",
    "Now we will switch focus to modeling survival by baseline covariates. The following is a line-diagram which represents the follow-up time for each individual (horizontal line), their event indicator (open circles are censoring, x's are events), and the HPA stain status (shaded is negative)."
   ]
  },
  {
   "cell_type": "code",
   "execution_count": 14,
   "id": "7f5d1ddf-7203-4e53-8a45-a4d9e975873d",
   "metadata": {},
   "outputs": [
    {
     "data": {
      "image/png": "[encoded data removed]",
      "text/plain": [
       "<Figure size 432x288 with 1 Axes>"
      ]
     },
     "metadata": {
      "needs_background": "light"
     },
     "output_type": "display_data"
    }
   ],
   "source": [
    "plt.fill_between([0, 230], [0, 0], [13.5, 13.5], alpha=0.2, color='k')\n",
    "plt.hlines(d.index + 1, xmin=0, xmax=d['time'], color='k')\n",
    "d1 = d.loc[d['status'] == 1].copy()\n",
    "d0 = d.loc[d['status'] == 0].copy()\n",
    "plt.plot(d0['time'], d0.index+1, 'o', color='w', markeredgecolor='k')\n",
    "plt.plot(d1['time'], d1.index+1, 'x', color='k')\n",
    "plt.xlim([0, 230])\n",
    "plt.xlabel(\"Time (days)\")\n",
    "plt.ylim([46, 0])\n",
    "plt.yticks([1, 10, 20, 30, 40, 45])\n",
    "plt.ylabel('IDs')\n",
    "plt.tight_layout()"
   ]
  },
  {
   "cell_type": "markdown",
   "id": "9a1dfe53-124b-47f3-b85b-3a38b3fd5b36",
   "metadata": {},
   "source": [
    "In this case, we can see there seems to be some pattern in survival by HPA stain. However, there is censoring and our description here is pretty general. To help make our descriptions of survival differences more precise, we will use AFT models.\n",
    "\n",
    "Here, we consider use of accelerated failure time (AFT) models with right censored data. These parametric models allow us to study how baseline variables are related to survival. AFT models are named because their scale parameters can be interpreted as how a baseline variable 'accelerates' the outcome. This acceleration is the ratio between the times when the survival are equal for a one unit change in the covariate. Alternatively, we can think about the parameters of this model as the ratio of mean survival times by covariate values.\n",
    "\n",
    "The AFT model can be represented as a log-linear model:\n",
    "$$ \\log(T_i) = \\beta_0 + \\beta_1 X_i + \\sigma \\epsilon_i $$ \n",
    "where different distributions for $\\epsilon$ provide different parametric AFT models. Here, $\\sigma$ is the shape parameter. It will be the parameter that varies in meanining between the different parametric distributions. The $\\beta$'s are the scale factors which give us the acceleration factors, which can be interpreted as \"the time to death given $X=1$ is accelerated by a factor of $\\exp(-\\beta_1)$\".\n",
    "\n",
    "For further details on the structure and interpretation of AFT models, see the Collett book.\n",
    "\n",
    "### Exponential\n",
    "\n",
    "To start, we consider the exponential AFT model. The exponential AFT model assumes a constant hazard, which is likely too simple for most settings. However, it can be useful to use as a starting point. The following is code to fit this AFT model using the `ee_aft` built-in estimating equation"
   ]
  },
  {
   "cell_type": "code",
   "execution_count": 15,
   "id": "83a91c20-c4c3-49ec-9c0e-fdbbebdff670",
   "metadata": {},
   "outputs": [],
   "source": [
    "def psi(theta):\n",
    "    return ee_aft(theta=theta, t=d['time'], delta=d['status'], \n",
    "                  X=d[['C', 'stain', ]], \n",
    "                  distribution='exponential')"
   ]
  },
  {
   "cell_type": "code",
   "execution_count": 16,
   "id": "afd371fd-c143-4c2a-b43a-09a7ef2c7a9a",
   "metadata": {},
   "outputs": [],
   "source": [
    "estr = MEstimator(psi, init=[6., 0.])\n",
    "estr.estimate()"
   ]
  },
  {
   "cell_type": "code",
   "execution_count": 17,
   "id": "72b88f31-6798-4b35-8cbf-dfaab2141ec1",
   "metadata": {},
   "outputs": [
    {
     "data": {
      "text/html": [
       "<div>\n",
       "<style scoped>\n",
       "    .dataframe tbody tr th:only-of-type {\n",
       "        vertical-align: middle;\n",
       "    }\n",
       "\n",
       "    .dataframe tbody tr th {\n",
       "        vertical-align: top;\n",
       "    }\n",
       "\n",
       "    .dataframe thead th {\n",
       "        text-align: right;\n",
       "    }\n",
       "</style>\n",
       "<table border=\"1\" class=\"dataframe\">\n",
       "  <thead>\n",
       "    <tr style=\"text-align: right;\">\n",
       "      <th></th>\n",
       "      <th>Est</th>\n",
       "      <th>SE</th>\n",
       "      <th>LCL</th>\n",
       "      <th>UCL</th>\n",
       "    </tr>\n",
       "    <tr>\n",
       "      <th>Params</th>\n",
       "      <th></th>\n",
       "      <th></th>\n",
       "      <th></th>\n",
       "      <th></th>\n",
       "    </tr>\n",
       "  </thead>\n",
       "  <tbody>\n",
       "    <tr>\n",
       "      <th>Intercept</th>\n",
       "      <td>5.800</td>\n",
       "      <td>0.431</td>\n",
       "      <td>4.956</td>\n",
       "      <td>6.645</td>\n",
       "    </tr>\n",
       "    <tr>\n",
       "      <th>Stain</th>\n",
       "      <td>-0.952</td>\n",
       "      <td>0.497</td>\n",
       "      <td>-1.926</td>\n",
       "      <td>0.023</td>\n",
       "    </tr>\n",
       "  </tbody>\n",
       "</table>\n",
       "</div>"
      ],
      "text/plain": [
       "             Est     SE    LCL    UCL\n",
       "Params                               \n",
       "Intercept  5.800  0.431  4.956  6.645\n",
       "Stain     -0.952  0.497 -1.926  0.023"
      ]
     },
     "execution_count": 17,
     "metadata": {},
     "output_type": "execute_result"
    }
   ],
   "source": [
    "# Setting up a Table for the results\n",
    "results = pd.DataFrame()\n",
    "results['Params'] = [\"Intercept\", \"Stain\"]\n",
    "results = results.set_index('Params')\n",
    "results['Est'] = estr.theta\n",
    "results['SE'] = np.diag(estr.variance) ** 0.5\n",
    "ci = estr.confidence_intervals()\n",
    "results['LCL'] = ci[:, 0]\n",
    "results['UCL'] = ci[:, 1]\n",
    "\n",
    "results.round(3)"
   ]
  },
  {
   "cell_type": "markdown",
   "id": "99d08e89-a9fc-44e3-9642-aa632ce07e4f",
   "metadata": {},
   "source": [
    "Here, $\\exp(0.952)$ would be the acceleration factor due to a positive HPA stain (note the cancellation of the negative signs).\n",
    "\n",
    "Another informative way to view these results is through a plot of the survival functions. The following code computes the survival function (at user-provided time points) for a specific covariate pattern. Here, we only consider HPA stain. The next block uses these predictions (and their confidence intervals) to plot the survival functions by HPA stain."
   ]
  },
  {
   "cell_type": "code",
   "execution_count": 18,
   "id": "582ff16e-fd68-4d85-888d-25878d55b510",
   "metadata": {},
   "outputs": [],
   "source": [
    "surv_neg = aft_predictions_function(X=[[1, 0], ], times=times_to_predict, \n",
    "                                    theta=estr.theta, covariance=estr.variance, \n",
    "                                    distribution='exponential')\n",
    "surv_pos = aft_predictions_function(X=[[1, 1], ], times=times_to_predict, \n",
    "                                    theta=estr.theta, covariance=estr.variance, \n",
    "                                    distribution='exponential')"
   ]
  },
  {
   "cell_type": "code",
   "execution_count": 19,
   "id": "0f36e185-6dec-4b26-acdb-0faf3b8ea8a0",
   "metadata": {},
   "outputs": [
    {
     "data": {
      "image/png": "[encoded data removed]",
      "text/plain": [
       "<Figure size 432x288 with 1 Axes>"
      ]
     },
     "metadata": {
      "needs_background": "light"
     },
     "output_type": "display_data"
    }
   ],
   "source": [
    "plt.plot(times_to_predict, surv_neg[:, 0], '-', color='blue', label='Negative')\n",
    "plt.fill_between(times_to_predict, surv_neg[:, 2], surv_neg[:, 3], color='blue', alpha=0.3)\n",
    "plt.plot(times_to_predict, surv_pos[:, 0], '-', color='red', label='Positive')\n",
    "plt.fill_between(times_to_predict, surv_pos[:, 2], surv_pos[:, 3], color='red', alpha=0.3)\n",
    "plt.ylim([0, 1])\n",
    "plt.ylabel(\"Survival\")\n",
    "plt.xlim([0, 235])\n",
    "plt.xlabel(\"Time (days)\")\n",
    "plt.legend()\n",
    "plt.title(\"Exponential AFT\")\n",
    "plt.tight_layout()"
   ]
  },
  {
   "cell_type": "markdown",
   "id": "8d9e2740-4fdf-4506-8c70-c4b625c312b3",
   "metadata": {},
   "source": [
    "This plot summarizes how survival unfolds over time. These plots can be helpful with interpreting or presenting results beyond the table of estimated parameters given previously.\n",
    "\n",
    "### Weibull\n",
    "\n",
    "The next model is the Weibull AFT model, which is a two-parameter generalization of the exponential model. In particular, it allows the hazard to vary in a specific monotonic way over time. To assess whether the exponential AFT model is reasonable, one can fit a Weibull model and assess whether the shape parameter ($\\sigma$) is different from 1.\n",
    "\n",
    "Below is how one can fit a Weibull AFT model with `ee_aft`"
   ]
  },
  {
   "cell_type": "code",
   "execution_count": 20,
   "id": "593fbb5c-7e6b-4722-8021-8c4d2c966bfa",
   "metadata": {},
   "outputs": [],
   "source": [
    "def psi(theta):\n",
    "    return ee_aft(theta=theta, t=d['time'], delta=d['status'], \n",
    "                  X=d[['C', 'stain', ]], \n",
    "                  distribution='weibull')"
   ]
  },
  {
   "cell_type": "code",
   "execution_count": 21,
   "id": "2ecd8ce2-4596-4bd2-8772-f088a228898c",
   "metadata": {},
   "outputs": [],
   "source": [
    "estr = MEstimator(psi, init=[5., 0., 0.])\n",
    "estr.estimate()"
   ]
  },
  {
   "cell_type": "code",
   "execution_count": 22,
   "id": "a8450359-0008-4c14-8d36-0ecb596de80b",
   "metadata": {},
   "outputs": [
    {
     "data": {
      "text/html": [
       "<div>\n",
       "<style scoped>\n",
       "    .dataframe tbody tr th:only-of-type {\n",
       "        vertical-align: middle;\n",
       "    }\n",
       "\n",
       "    .dataframe tbody tr th {\n",
       "        vertical-align: top;\n",
       "    }\n",
       "\n",
       "    .dataframe thead th {\n",
       "        text-align: right;\n",
       "    }\n",
       "</style>\n",
       "<table border=\"1\" class=\"dataframe\">\n",
       "  <thead>\n",
       "    <tr style=\"text-align: right;\">\n",
       "      <th></th>\n",
       "      <th>Est</th>\n",
       "      <th>SE</th>\n",
       "      <th>LCL</th>\n",
       "      <th>UCL</th>\n",
       "    </tr>\n",
       "    <tr>\n",
       "      <th>Params</th>\n",
       "      <th></th>\n",
       "      <th></th>\n",
       "      <th></th>\n",
       "      <th></th>\n",
       "    </tr>\n",
       "  </thead>\n",
       "  <tbody>\n",
       "    <tr>\n",
       "      <th>Intercept</th>\n",
       "      <td>5.854</td>\n",
       "      <td>0.483</td>\n",
       "      <td>4.909</td>\n",
       "      <td>6.800</td>\n",
       "    </tr>\n",
       "    <tr>\n",
       "      <th>Stain</th>\n",
       "      <td>-0.997</td>\n",
       "      <td>0.532</td>\n",
       "      <td>-2.039</td>\n",
       "      <td>0.046</td>\n",
       "    </tr>\n",
       "    <tr>\n",
       "      <th>Shape</th>\n",
       "      <td>-0.065</td>\n",
       "      <td>0.126</td>\n",
       "      <td>-0.311</td>\n",
       "      <td>0.182</td>\n",
       "    </tr>\n",
       "  </tbody>\n",
       "</table>\n",
       "</div>"
      ],
      "text/plain": [
       "             Est     SE    LCL    UCL\n",
       "Params                               \n",
       "Intercept  5.854  0.483  4.909  6.800\n",
       "Stain     -0.997  0.532 -2.039  0.046\n",
       "Shape     -0.065  0.126 -0.311  0.182"
      ]
     },
     "execution_count": 22,
     "metadata": {},
     "output_type": "execute_result"
    }
   ],
   "source": [
    "# Setting up a Table for the results\n",
    "results = pd.DataFrame()\n",
    "results['Params'] = [\"Intercept\", \"Stain\", \"Shape\"]\n",
    "results = results.set_index('Params')\n",
    "results['Est'] = estr.theta\n",
    "results['SE'] = np.diag(estr.variance) ** 0.5\n",
    "ci = estr.confidence_intervals()\n",
    "results['LCL'] = ci[:, 0]\n",
    "results['UCL'] = ci[:, 1]\n",
    "\n",
    "results.round(3)"
   ]
  },
  {
   "cell_type": "markdown",
   "id": "77af7df1-cfac-4b28-a830-42c7deefc51c",
   "metadata": {},
   "source": [
    "Note that the shape parameter here is the log-transformed version, so $\\exp(-0.065)$ is near one. This suggests that a Weibull AFT model provides a pretty similar fit to an exponential AFT model for this data. We can compare this to the results reported in Collett (pg 245). There we see that the intercept ($\\mu$ in Collett) and stain ($\\hat{\\alpha}$ in Collett) match to the reported number of decimal places. Note that the $\\sigma$ in `delicatessen` is the inverse of the one reported in Collett. \n",
    "\n",
    "Below is code to generate a plot of the survival functions. As the shape parameter is near one, this plot is expected to be similar to the exponential AFT model plot."
   ]
  },
  {
   "cell_type": "code",
   "execution_count": 23,
   "id": "cfaf4cbc-5230-4398-9a5c-3bc2bc62ada7",
   "metadata": {},
   "outputs": [
    {
     "data": {
      "image/png": "[encoded data removed]",
      "text/plain": [
       "<Figure size 432x288 with 1 Axes>"
      ]
     },
     "metadata": {
      "needs_background": "light"
     },
     "output_type": "display_data"
    }
   ],
   "source": [
    "# Computing predictions for survival functions\n",
    "surv_neg = aft_predictions_function(X=[[1, 0], ], times=times_to_predict, \n",
    "                                    theta=estr.theta, covariance=estr.variance, \n",
    "                                    distribution='weibull')\n",
    "surv_pos = aft_predictions_function(X=[[1, 1], ], times=times_to_predict, \n",
    "                                    theta=estr.theta, covariance=estr.variance, \n",
    "                                    distribution='weibull')\n",
    "\n",
    "# Plotting survival functions\n",
    "plt.plot(times_to_predict, surv_neg[:, 0], '-', color='blue', label='Negative')\n",
    "plt.fill_between(times_to_predict, surv_neg[:, 2], surv_neg[:, 3], color='blue', alpha=0.3)\n",
    "plt.plot(times_to_predict, surv_pos[:, 0], '-', color='red', label='Positive')\n",
    "plt.fill_between(times_to_predict, surv_pos[:, 2], surv_pos[:, 3], color='red', alpha=0.3)\n",
    "plt.ylim([0, 1])\n",
    "plt.ylabel(\"Survival\")\n",
    "plt.xlim([0, 235])\n",
    "plt.xlabel(\"Time (days)\")\n",
    "plt.legend()\n",
    "plt.title(\"Weibull AFT\")\n",
    "plt.tight_layout()"
   ]
  },
  {
   "cell_type": "markdown",
   "id": "99a227bc-5372-43e8-92b5-1ad562dd9b3e",
   "metadata": {},
   "source": [
    "Other measures can also be plotted. Here, we plot the hazard functions shown in Figure 6.6 of Collett."
   ]
  },
  {
   "cell_type": "code",
   "execution_count": 24,
   "id": "a03a559f-c33f-431c-8188-24afd046be75",
   "metadata": {},
   "outputs": [
    {
     "data": {
      "image/png": "[encoded data removed]",
      "text/plain": [
       "<Figure size 432x288 with 1 Axes>"
      ]
     },
     "metadata": {
      "needs_background": "light"
     },
     "output_type": "display_data"
    }
   ],
   "source": [
    "# Computing predictions for survival functions\n",
    "haz_neg = aft_predictions_function(X=[[1, 0], ], times=times_to_predict, \n",
    "                                   theta=estr.theta, covariance=estr.variance, \n",
    "                                   distribution='weibull', measure='hazard')\n",
    "haz_pos = aft_predictions_function(X=[[1, 1], ], times=times_to_predict, \n",
    "                                   theta=estr.theta, covariance=estr.variance, \n",
    "                                   distribution='weibull', measure='hazard')\n",
    "\n",
    "# Plotting hazard functions\n",
    "plt.plot(times_to_predict, haz_neg[:, 0], '-', color='blue', label='Negative')\n",
    "plt.plot(times_to_predict, haz_pos[:, 0], '-', color='red', label='Positive')\n",
    "plt.ylim([0, 0.011])\n",
    "plt.ylabel(\"Hazard\")\n",
    "plt.xlim([-5, 235])\n",
    "plt.xlabel(\"Time (days)\")\n",
    "plt.legend()\n",
    "plt.title(\"Weibull AFT\")\n",
    "plt.tight_layout()"
   ]
  },
  {
   "cell_type": "markdown",
   "id": "ab917294-1a9d-43bf-b91d-d411fbcde96a",
   "metadata": {},
   "source": [
    "Note that the approximation near $t=0$ is less precise for the given spacing used. One could improve its appearance relative to the book by using a finer resolution.\n",
    "\n",
    "### Log-Normal\n",
    "\n",
    "Another option is the log-normal AFT model. The following is how `ee_aft` can be used to fit the log-normal AFT model"
   ]
  },
  {
   "cell_type": "code",
   "execution_count": 25,
   "id": "8c90a596-8f52-45a2-bb10-d3c91b406659",
   "metadata": {},
   "outputs": [],
   "source": [
    "def psi(theta):\n",
    "    return ee_aft(theta=theta, t=d['time'], delta=d['status'], \n",
    "                  X=d[['C', 'stain', ]], \n",
    "                  distribution='log-normal')"
   ]
  },
  {
   "cell_type": "code",
   "execution_count": 26,
   "id": "246fd76f-95e3-4785-a821-1fd93085233e",
   "metadata": {},
   "outputs": [],
   "source": [
    "estr = MEstimator(psi, init=[5., 0., 0.])\n",
    "estr.estimate()"
   ]
  },
  {
   "cell_type": "code",
   "execution_count": 27,
   "id": "9b372105-8be3-429e-b8e8-482c783347c3",
   "metadata": {},
   "outputs": [
    {
     "data": {
      "text/html": [
       "<div>\n",
       "<style scoped>\n",
       "    .dataframe tbody tr th:only-of-type {\n",
       "        vertical-align: middle;\n",
       "    }\n",
       "\n",
       "    .dataframe tbody tr th {\n",
       "        vertical-align: top;\n",
       "    }\n",
       "\n",
       "    .dataframe thead th {\n",
       "        text-align: right;\n",
       "    }\n",
       "</style>\n",
       "<table border=\"1\" class=\"dataframe\">\n",
       "  <thead>\n",
       "    <tr style=\"text-align: right;\">\n",
       "      <th></th>\n",
       "      <th>Est</th>\n",
       "      <th>SE</th>\n",
       "      <th>LCL</th>\n",
       "      <th>UCL</th>\n",
       "    </tr>\n",
       "    <tr>\n",
       "      <th>Params</th>\n",
       "      <th></th>\n",
       "      <th></th>\n",
       "      <th></th>\n",
       "      <th></th>\n",
       "    </tr>\n",
       "  </thead>\n",
       "  <tbody>\n",
       "    <tr>\n",
       "      <th>Intercept</th>\n",
       "      <td>5.492</td>\n",
       "      <td>0.450</td>\n",
       "      <td>4.609</td>\n",
       "      <td>6.374</td>\n",
       "    </tr>\n",
       "    <tr>\n",
       "      <th>Stain</th>\n",
       "      <td>-1.151</td>\n",
       "      <td>0.498</td>\n",
       "      <td>-2.127</td>\n",
       "      <td>-0.176</td>\n",
       "    </tr>\n",
       "    <tr>\n",
       "      <th>Shape</th>\n",
       "      <td>-0.307</td>\n",
       "      <td>0.134</td>\n",
       "      <td>-0.571</td>\n",
       "      <td>-0.043</td>\n",
       "    </tr>\n",
       "  </tbody>\n",
       "</table>\n",
       "</div>"
      ],
      "text/plain": [
       "             Est     SE    LCL    UCL\n",
       "Params                               \n",
       "Intercept  5.492  0.450  4.609  6.374\n",
       "Stain     -1.151  0.498 -2.127 -0.176\n",
       "Shape     -0.307  0.134 -0.571 -0.043"
      ]
     },
     "execution_count": 27,
     "metadata": {},
     "output_type": "execute_result"
    }
   ],
   "source": [
    "# Setting up a Table for the results\n",
    "results = pd.DataFrame()\n",
    "results['Params'] = [\"Intercept\", \"Stain\", \"Shape\"]\n",
    "results = results.set_index('Params')\n",
    "results['Est'] = estr.theta\n",
    "results['SE'] = np.diag(estr.variance) ** 0.5\n",
    "ci = estr.confidence_intervals()\n",
    "results['LCL'] = ci[:, 0]\n",
    "results['UCL'] = ci[:, 1]\n",
    "\n",
    "results.round(3)"
   ]
  },
  {
   "cell_type": "code",
   "execution_count": 28,
   "id": "029e39cb-734a-49ad-95ff-775bf0a99361",
   "metadata": {},
   "outputs": [
    {
     "data": {
      "image/png": "[encoded data removed]",
      "text/plain": [
       "<Figure size 432x288 with 1 Axes>"
      ]
     },
     "metadata": {
      "needs_background": "light"
     },
     "output_type": "display_data"
    }
   ],
   "source": [
    "# Computing predictions for survival functions\n",
    "surv_neg = aft_predictions_function(X=[[1, 0], ], times=times_to_predict, \n",
    "                                    theta=estr.theta, covariance=estr.variance, \n",
    "                                    distribution='log-normal')\n",
    "surv_pos = aft_predictions_function(X=[[1, 1], ], times=times_to_predict, \n",
    "                                    theta=estr.theta, covariance=estr.variance, \n",
    "                                    distribution='log-normal')\n",
    "\n",
    "# Plotting survival functions\n",
    "plt.plot(times_to_predict, surv_neg[:, 0], '-', color='blue', label='Negative')\n",
    "plt.fill_between(times_to_predict, surv_neg[:, 2], surv_neg[:, 3], color='blue', alpha=0.3)\n",
    "plt.plot(times_to_predict, surv_pos[:, 0], '-', color='red', label='Positive')\n",
    "plt.fill_between(times_to_predict, surv_pos[:, 2], surv_pos[:, 3], color='red', alpha=0.3)\n",
    "plt.ylim([0, 1])\n",
    "plt.ylabel(\"Survival\")\n",
    "plt.xlim([0, 235])\n",
    "plt.xlabel(\"Time (days)\")\n",
    "plt.legend()\n",
    "plt.title(\"Log-Normal AFT\")\n",
    "plt.tight_layout()"
   ]
  },
  {
   "cell_type": "markdown",
   "id": "8d116a53-f186-4536-82e0-0f90c378a4c2",
   "metadata": {},
   "source": [
    "### Log-Logistic\n",
    "\n",
    "The final option available in `delicatessen` is the log-logistic AFT model. The following is how `ee_aft` can be used to fit this model"
   ]
  },
  {
   "cell_type": "code",
   "execution_count": 29,
   "id": "0822db04-bb6e-4b04-85ba-c47192768b86",
   "metadata": {},
   "outputs": [],
   "source": [
    "def psi(theta):\n",
    "    return ee_aft(theta=theta, t=d['time'], delta=d['status'], \n",
    "                  X=d[['C', 'stain', ]], \n",
    "                  distribution='log-logistic')"
   ]
  },
  {
   "cell_type": "code",
   "execution_count": 30,
   "id": "57e934c1-cf27-4fef-8eae-0c07eb6e8186",
   "metadata": {},
   "outputs": [],
   "source": [
    "estr = MEstimator(psi, init=[5., 0., 0.])\n",
    "estr.estimate()"
   ]
  },
  {
   "cell_type": "code",
   "execution_count": 31,
   "id": "5ff2ef63-0fe2-4773-9e2f-faa0aebbf235",
   "metadata": {},
   "outputs": [
    {
     "data": {
      "text/html": [
       "<div>\n",
       "<style scoped>\n",
       "    .dataframe tbody tr th:only-of-type {\n",
       "        vertical-align: middle;\n",
       "    }\n",
       "\n",
       "    .dataframe tbody tr th {\n",
       "        vertical-align: top;\n",
       "    }\n",
       "\n",
       "    .dataframe thead th {\n",
       "        text-align: right;\n",
       "    }\n",
       "</style>\n",
       "<table border=\"1\" class=\"dataframe\">\n",
       "  <thead>\n",
       "    <tr style=\"text-align: right;\">\n",
       "      <th></th>\n",
       "      <th>Est</th>\n",
       "      <th>SE</th>\n",
       "      <th>LCL</th>\n",
       "      <th>UCL</th>\n",
       "    </tr>\n",
       "    <tr>\n",
       "      <th>Params</th>\n",
       "      <th></th>\n",
       "      <th></th>\n",
       "      <th></th>\n",
       "      <th></th>\n",
       "    </tr>\n",
       "  </thead>\n",
       "  <tbody>\n",
       "    <tr>\n",
       "      <th>Intercept</th>\n",
       "      <td>5.461</td>\n",
       "      <td>0.445</td>\n",
       "      <td>4.589</td>\n",
       "      <td>6.334</td>\n",
       "    </tr>\n",
       "    <tr>\n",
       "      <th>Stain</th>\n",
       "      <td>-1.149</td>\n",
       "      <td>0.505</td>\n",
       "      <td>-2.139</td>\n",
       "      <td>-0.159</td>\n",
       "    </tr>\n",
       "    <tr>\n",
       "      <th>Shape</th>\n",
       "      <td>0.217</td>\n",
       "      <td>0.145</td>\n",
       "      <td>-0.067</td>\n",
       "      <td>0.502</td>\n",
       "    </tr>\n",
       "  </tbody>\n",
       "</table>\n",
       "</div>"
      ],
      "text/plain": [
       "             Est     SE    LCL    UCL\n",
       "Params                               \n",
       "Intercept  5.461  0.445  4.589  6.334\n",
       "Stain     -1.149  0.505 -2.139 -0.159\n",
       "Shape      0.217  0.145 -0.067  0.502"
      ]
     },
     "execution_count": 31,
     "metadata": {},
     "output_type": "execute_result"
    }
   ],
   "source": [
    "# Setting up a Table for the results\n",
    "results = pd.DataFrame()\n",
    "results['Params'] = [\"Intercept\", \"Stain\", \"Shape\"]\n",
    "results = results.set_index('Params')\n",
    "results['Est'] = estr.theta\n",
    "results['SE'] = np.diag(estr.variance) ** 0.5\n",
    "ci = estr.confidence_intervals()\n",
    "results['LCL'] = ci[:, 0]\n",
    "results['UCL'] = ci[:, 1]\n",
    "\n",
    "results.round(3)"
   ]
  },
  {
   "cell_type": "markdown",
   "id": "c016aa4c-1554-4981-9e78-7a4c3db69c3b",
   "metadata": {},
   "source": [
    "These parameter estimates are the same as those reported in Collett (except $\\sigma$ due to a differing parameterization). "
   ]
  },
  {
   "cell_type": "code",
   "execution_count": 32,
   "id": "2b776f67-aa4c-42e3-a947-479289d9157f",
   "metadata": {},
   "outputs": [
    {
     "data": {
      "image/png": "[encoded data removed]",
      "text/plain": [
       "<Figure size 432x288 with 1 Axes>"
      ]
     },
     "metadata": {
      "needs_background": "light"
     },
     "output_type": "display_data"
    }
   ],
   "source": [
    "# Computing predictions for survival functions\n",
    "surv_neg = aft_predictions_function(X=[[1, 0], ], times=times_to_predict, \n",
    "                                    theta=estr.theta, covariance=estr.variance, \n",
    "                                    distribution='log-logistic')\n",
    "surv_pos = aft_predictions_function(X=[[1, 1], ], times=times_to_predict, \n",
    "                                    theta=estr.theta, covariance=estr.variance, \n",
    "                                    distribution='log-logistic')\n",
    "\n",
    "# Plotting survival functions\n",
    "plt.plot(times_to_predict, surv_neg[:, 0], '-', color='blue', label='Negative')\n",
    "plt.fill_between(times_to_predict, surv_neg[:, 2], surv_neg[:, 3], color='blue', alpha=0.3)\n",
    "plt.plot(times_to_predict, surv_pos[:, 0], '-', color='red', label='Positive')\n",
    "plt.fill_between(times_to_predict, surv_pos[:, 2], surv_pos[:, 3], color='red', alpha=0.3)\n",
    "plt.ylim([0, 1])\n",
    "plt.ylabel(\"Survival\")\n",
    "plt.xlim([0, 235])\n",
    "plt.xlabel(\"Time (days)\")\n",
    "plt.legend()\n",
    "plt.title(\"Log-Logistic AFT\")\n",
    "plt.tight_layout()"
   ]
  },
  {
   "cell_type": "markdown",
   "id": "6cec0eea-3636-4ba0-9ff2-a73608cc0a93",
   "metadata": {},
   "source": [
    "Again, we can also plot the hazard functions over time and compare them to the book (Figure 6.7)."
   ]
  },
  {
   "cell_type": "code",
   "execution_count": 33,
   "id": "155a611d-4ba4-4941-92da-49f707bb8fb6",
   "metadata": {},
   "outputs": [
    {
     "data": {
      "image/png": "[encoded data removed]",
      "text/plain": [
       "<Figure size 432x288 with 1 Axes>"
      ]
     },
     "metadata": {
      "needs_background": "light"
     },
     "output_type": "display_data"
    }
   ],
   "source": [
    "# Computing predictions for survival functions\n",
    "haz_neg = aft_predictions_function(X=[[1, 0], ], times=times_to_predict, \n",
    "                                   theta=estr.theta, covariance=estr.variance, \n",
    "                                   distribution='log-logistic', measure='hazard')\n",
    "haz_pos = aft_predictions_function(X=[[1, 1], ], times=times_to_predict, \n",
    "                                   theta=estr.theta, covariance=estr.variance, \n",
    "                                   distribution='log-logistic', measure='hazard')\n",
    "\n",
    "# Plotting hazard functions\n",
    "plt.plot(times_to_predict, haz_neg[:, 0], '-', color='blue', label='Negative')\n",
    "plt.plot(times_to_predict, haz_pos[:, 0], '-', color='red', label='Positive')\n",
    "# Note: the book's figure seems to have an issue. If you plot the equation given in the book,\n",
    "#       (commented below), it overlaps perfectly with this output. The book's figures seem to have\n",
    "#       some sort of issue? Should check against the 2023 edition when available to me.\n",
    "# h1 = 1.243 * (times_to_predict)**-1 / (1 + times_to_predict**-1.243 * np.exp(6.787 - 1.428))\n",
    "# plt.plot(times_to_predict, h1, '--', color='green')\n",
    "# h1 = 1.243 * (times_to_predict)**-1 / (1 + times_to_predict**-1.243 * np.exp(6.787))\n",
    "# plt.plot(times_to_predict, h1, '--', color='green')\n",
    "plt.ylim([0, 0.011])\n",
    "plt.ylabel(\"Hazard\")\n",
    "plt.xlim([-5, 235])\n",
    "plt.xlabel(\"Time (days)\")\n",
    "plt.legend()\n",
    "plt.title(\"Log-Logistic AFT\")\n",
    "plt.tight_layout()"
   ]
  },
  {
   "cell_type": "markdown",
   "id": "69f7d4cf-ea14-44fa-88f4-385659643254",
   "metadata": {},
   "source": [
    "Consistent with the other results, the log-logistic AFT model does not differ substantially from the other AFT models.\n",
    "\n",
    "## Conclusion\n",
    "\n",
    "Here, we applied some of the parametric survival models described at length in Collett using the M-estimation framework. As these models are all finite dimension parameter vectors, standard M-estimation theory straightforwardly applies. A benefit in this context is the ease that variance estimation can be accomplished to create plots with point-wise confidence intervals.\n",
    "\n",
    "### References\n",
    "\n",
    "Collett, D. (2015). Survival analysis. In *Modelling survival data in medical research*. 3rd Ed. Chapman and Hall/CRC. pg 6-7\n",
    "\n",
    "Collett, D. (2015). Accelerated failure time and other parametric models. In *Modelling survival data in medical research*. 3rd Ed. Chapman and Hall/CRC. pg 221-274"
   ]
  }
 ],
 "metadata": {
  "kernelspec": {
   "display_name": "Python 3 (ipykernel)",
   "language": "python",
   "name": "python3"
  },
  "language_info": {
   "codemirror_mode": {
    "name": "ipython",
    "version": 3
   },
   "file_extension": ".py",
   "mimetype": "text/x-python",
   "name": "python",
   "nbconvert_exporter": "python",
   "pygments_lexer": "ipython3",
   "version": "3.9.4"
  }
 },
 "nbformat": 4,
 "nbformat_minor": 5
}
